{
  "nbformat": 4,
  "nbformat_minor": 0,
  "metadata": {
    "colab": {
      "provenance": [],
      "gpuType": "T4",
      "include_colab_link": true
    },
    "kernelspec": {
      "name": "python3",
      "display_name": "Python 3"
    },
    "language_info": {
      "name": "python"
    },
    "accelerator": "GPU"
  },
  "cells": [
    {
      "cell_type": "markdown",
      "metadata": {
        "id": "view-in-github",
        "colab_type": "text"
      },
      "source": [
        "<a href=\"https://colab.research.google.com/github/vcudaykiran/22691A32B7/blob/main/Heart_Disease_Prediction_project.ipynb\" target=\"_parent\"><img src=\"https://colab.research.google.com/assets/colab-badge.svg\" alt=\"Open In Colab\"/></a>"
      ]
    },
    {
      "cell_type": "markdown",
      "source": [
        "\n",
        "## **Numpy Basics**"
      ],
      "metadata": {
        "id": "ZDKnvIyECYL-"
      }
    },
    {
      "cell_type": "code",
      "source": [
        "import numpy as np"
      ],
      "metadata": {
        "id": "pwxkM3qmCmFd"
      },
      "execution_count": null,
      "outputs": []
    },
    {
      "cell_type": "code",
      "source": [
        "array1 = np.array([1,2,3])"
      ],
      "metadata": {
        "id": "F2_zBfXZAo-5"
      },
      "execution_count": null,
      "outputs": []
    },
    {
      "cell_type": "code",
      "source": [
        "type(array1)"
      ],
      "metadata": {
        "colab": {
          "base_uri": "https://localhost:8080/"
        },
        "id": "uDBRyWMgAtte",
        "outputId": "7951bd84-e63c-4400-920a-921939037b1c"
      },
      "execution_count": null,
      "outputs": [
        {
          "output_type": "execute_result",
          "data": {
            "text/plain": [
              "numpy.ndarray"
            ]
          },
          "metadata": {},
          "execution_count": 3
        }
      ]
    },
    {
      "cell_type": "code",
      "source": [
        "array2 = np.array([4,5,6])\n",
        "array2"
      ],
      "metadata": {
        "colab": {
          "base_uri": "https://localhost:8080/"
        },
        "id": "qdpGEjtmAvT4",
        "outputId": "e08b9fff-3854-4d28-9f24-c5d2ee165a2d"
      },
      "execution_count": null,
      "outputs": [
        {
          "output_type": "execute_result",
          "data": {
            "text/plain": [
              "array([4, 5, 6])"
            ]
          },
          "metadata": {},
          "execution_count": 4
        }
      ]
    },
    {
      "cell_type": "code",
      "source": [
        "zeros_array = np.zeros((6,2))"
      ],
      "metadata": {
        "id": "43f1vpAKBGCj"
      },
      "execution_count": null,
      "outputs": []
    },
    {
      "cell_type": "code",
      "source": [
        "zeros_array"
      ],
      "metadata": {
        "colab": {
          "base_uri": "https://localhost:8080/"
        },
        "id": "js9N66sPAwHZ",
        "outputId": "4797a481-46fb-4363-89a0-b2c7f7978c2f"
      },
      "execution_count": null,
      "outputs": [
        {
          "output_type": "execute_result",
          "data": {
            "text/plain": [
              "array([[0., 0.],\n",
              "       [0., 0.],\n",
              "       [0., 0.],\n",
              "       [0., 0.],\n",
              "       [0., 0.],\n",
              "       [0., 0.]])"
            ]
          },
          "metadata": {},
          "execution_count": 6
        }
      ]
    },
    {
      "cell_type": "code",
      "source": [
        "np.ones((3,3))"
      ],
      "metadata": {
        "colab": {
          "base_uri": "https://localhost:8080/"
        },
        "id": "xsndVoSnAyLl",
        "outputId": "7064dd32-2b71-4241-9ac5-e1e5721cb590"
      },
      "execution_count": null,
      "outputs": [
        {
          "output_type": "execute_result",
          "data": {
            "text/plain": [
              "array([[1., 1., 1.],\n",
              "       [1., 1., 1.],\n",
              "       [1., 1., 1.]])"
            ]
          },
          "metadata": {},
          "execution_count": 7
        }
      ]
    },
    {
      "cell_type": "code",
      "source": [
        "array = np.random.rand(3,4)\n",
        "array"
      ],
      "metadata": {
        "colab": {
          "base_uri": "https://localhost:8080/"
        },
        "id": "OjvF5rbPBJeh",
        "outputId": "35b50a03-2f8b-4830-b019-b97a8b09c282"
      },
      "execution_count": null,
      "outputs": [
        {
          "output_type": "execute_result",
          "data": {
            "text/plain": [
              "array([[0.96677431, 0.88682639, 0.10562565, 0.08176547],\n",
              "       [0.93305803, 0.73001432, 0.22014688, 0.70477644],\n",
              "       [0.01782879, 0.0811251 , 0.03730774, 0.34056718]])"
            ]
          },
          "metadata": {},
          "execution_count": 8
        }
      ]
    },
    {
      "cell_type": "code",
      "source": [
        "view_reshaped_array = array.reshape(6,2)\n",
        "array"
      ],
      "metadata": {
        "colab": {
          "base_uri": "https://localhost:8080/"
        },
        "id": "Xe-q77bMBQCJ",
        "outputId": "61390efb-39ec-4742-868d-6bb45ba2f0b7"
      },
      "execution_count": null,
      "outputs": [
        {
          "output_type": "execute_result",
          "data": {
            "text/plain": [
              "array([[0.96677431, 0.88682639, 0.10562565, 0.08176547],\n",
              "       [0.93305803, 0.73001432, 0.22014688, 0.70477644],\n",
              "       [0.01782879, 0.0811251 , 0.03730774, 0.34056718]])"
            ]
          },
          "metadata": {},
          "execution_count": 9
        }
      ]
    },
    {
      "cell_type": "code",
      "source": [
        "view_reshaped_array"
      ],
      "metadata": {
        "colab": {
          "base_uri": "https://localhost:8080/"
        },
        "id": "jhLDG0oEBRgB",
        "outputId": "ed3b2f1c-a159-4857-f57d-6abd5b02791d"
      },
      "execution_count": null,
      "outputs": [
        {
          "output_type": "execute_result",
          "data": {
            "text/plain": [
              "array([[0.96677431, 0.88682639],\n",
              "       [0.10562565, 0.08176547],\n",
              "       [0.93305803, 0.73001432],\n",
              "       [0.22014688, 0.70477644],\n",
              "       [0.01782879, 0.0811251 ],\n",
              "       [0.03730774, 0.34056718]])"
            ]
          },
          "metadata": {},
          "execution_count": 10
        }
      ]
    },
    {
      "cell_type": "code",
      "source": [
        "view_reshaped_array[0]"
      ],
      "metadata": {
        "colab": {
          "base_uri": "https://localhost:8080/"
        },
        "id": "UsXlNUbJBT2n",
        "outputId": "356cb1d2-464b-49ef-a1a1-76f422375dc4"
      },
      "execution_count": null,
      "outputs": [
        {
          "output_type": "execute_result",
          "data": {
            "text/plain": [
              "array([0.96677431, 0.88682639])"
            ]
          },
          "metadata": {},
          "execution_count": 11
        }
      ]
    },
    {
      "cell_type": "code",
      "source": [
        "view_reshaped_array[0,1]"
      ],
      "metadata": {
        "colab": {
          "base_uri": "https://localhost:8080/"
        },
        "id": "tFReFRftBWeR",
        "outputId": "13046c6f-3522-496d-fe55-14d5424b0aff"
      },
      "execution_count": null,
      "outputs": [
        {
          "output_type": "execute_result",
          "data": {
            "text/plain": [
              "np.float64(0.8868263877922038)"
            ]
          },
          "metadata": {},
          "execution_count": 12
        }
      ]
    },
    {
      "cell_type": "code",
      "source": [
        "view_reshaped_array[0][1]"
      ],
      "metadata": {
        "colab": {
          "base_uri": "https://localhost:8080/"
        },
        "id": "rHMD4T0nBZC1",
        "outputId": "1b5f86c5-6983-4d02-deeb-199e8a57e501"
      },
      "execution_count": null,
      "outputs": [
        {
          "output_type": "execute_result",
          "data": {
            "text/plain": [
              "np.float64(0.8868263877922038)"
            ]
          },
          "metadata": {},
          "execution_count": 13
        }
      ]
    },
    {
      "cell_type": "code",
      "source": [
        "view_reshaped_array[ : ,1 ]"
      ],
      "metadata": {
        "colab": {
          "base_uri": "https://localhost:8080/"
        },
        "id": "8xBMfeogBbad",
        "outputId": "e750a72a-1dbd-4be7-b41f-248885395f6c"
      },
      "execution_count": null,
      "outputs": [
        {
          "output_type": "execute_result",
          "data": {
            "text/plain": [
              "array([0.88682639, 0.08176547, 0.73001432, 0.70477644, 0.0811251 ,\n",
              "       0.34056718])"
            ]
          },
          "metadata": {},
          "execution_count": 14
        }
      ]
    },
    {
      "cell_type": "code",
      "source": [
        "test = np.random.rand(2,4,3)\n",
        "test"
      ],
      "metadata": {
        "colab": {
          "base_uri": "https://localhost:8080/"
        },
        "id": "-VMVk-prBdkx",
        "outputId": "8447d501-e501-448d-fa98-5f7d85aec113"
      },
      "execution_count": null,
      "outputs": [
        {
          "output_type": "execute_result",
          "data": {
            "text/plain": [
              "array([[[0.15414339, 0.00810564, 0.71306492],\n",
              "        [0.74706358, 0.33679981, 0.35654375],\n",
              "        [0.63092654, 0.52515714, 0.26671226],\n",
              "        [0.22111656, 0.8022252 , 0.85344811]],\n",
              "\n",
              "       [[0.28573794, 0.67253402, 0.00476238],\n",
              "        [0.31472821, 0.21042279, 0.41277908],\n",
              "        [0.34195219, 0.15132688, 0.52337154],\n",
              "        [0.3110408 , 0.8792446 , 0.93519482]]])"
            ]
          },
          "metadata": {},
          "execution_count": 15
        }
      ]
    },
    {
      "cell_type": "code",
      "source": [
        "test[:,2:1]"
      ],
      "metadata": {
        "colab": {
          "base_uri": "https://localhost:8080/"
        },
        "id": "fxF4yvRPBgiH",
        "outputId": "b3d9f540-bdfb-4dfa-da98-23412e77c3a8"
      },
      "execution_count": null,
      "outputs": [
        {
          "output_type": "execute_result",
          "data": {
            "text/plain": [
              "array([], shape=(2, 0, 3), dtype=float64)"
            ]
          },
          "metadata": {},
          "execution_count": 16
        }
      ]
    },
    {
      "cell_type": "code",
      "source": [
        "test[:4,2]"
      ],
      "metadata": {
        "colab": {
          "base_uri": "https://localhost:8080/"
        },
        "id": "SXgw9FH1Bi4y",
        "outputId": "97fb9dc2-e980-476a-fba9-530268551d7f"
      },
      "execution_count": null,
      "outputs": [
        {
          "output_type": "execute_result",
          "data": {
            "text/plain": [
              "array([[0.63092654, 0.52515714, 0.26671226],\n",
              "       [0.34195219, 0.15132688, 0.52337154]])"
            ]
          },
          "metadata": {},
          "execution_count": 17
        }
      ]
    },
    {
      "cell_type": "code",
      "source": [
        "test[1:4,3]"
      ],
      "metadata": {
        "colab": {
          "base_uri": "https://localhost:8080/"
        },
        "id": "mXajNtTMBmgj",
        "outputId": "778aa664-2c4d-43e4-c87d-15cf7c6bddc5"
      },
      "execution_count": null,
      "outputs": [
        {
          "output_type": "execute_result",
          "data": {
            "text/plain": [
              "array([[0.3110408 , 0.8792446 , 0.93519482]])"
            ]
          },
          "metadata": {},
          "execution_count": 18
        }
      ]
    },
    {
      "cell_type": "code",
      "source": [
        "test[:,:,2]"
      ],
      "metadata": {
        "colab": {
          "base_uri": "https://localhost:8080/"
        },
        "id": "Q4sDrCPvBtQ4",
        "outputId": "4992ab95-ddae-41a1-bf94-ce0b6dcfa1f1"
      },
      "execution_count": null,
      "outputs": [
        {
          "output_type": "execute_result",
          "data": {
            "text/plain": [
              "array([[0.71306492, 0.35654375, 0.26671226, 0.85344811],\n",
              "       [0.00476238, 0.41277908, 0.52337154, 0.93519482]])"
            ]
          },
          "metadata": {},
          "execution_count": 19
        }
      ]
    },
    {
      "cell_type": "code",
      "source": [
        "test[0,:,2]"
      ],
      "metadata": {
        "colab": {
          "base_uri": "https://localhost:8080/"
        },
        "id": "nw96sJnaBt8H",
        "outputId": "3ff891ca-0322-41fb-a674-047c644028fe"
      },
      "execution_count": null,
      "outputs": [
        {
          "output_type": "execute_result",
          "data": {
            "text/plain": [
              "array([0.71306492, 0.35654375, 0.26671226, 0.85344811])"
            ]
          },
          "metadata": {},
          "execution_count": 20
        }
      ]
    },
    {
      "cell_type": "code",
      "source": [
        "train = np.random.rand(3,6,4)\n",
        "train"
      ],
      "metadata": {
        "colab": {
          "base_uri": "https://localhost:8080/"
        },
        "id": "ALrv0OLeBx3m",
        "outputId": "2513b90e-6028-4599-c9fa-91572e43d2db"
      },
      "execution_count": null,
      "outputs": [
        {
          "output_type": "execute_result",
          "data": {
            "text/plain": [
              "array([[[0.66022836, 0.15767055, 0.07546065, 0.69422512],\n",
              "        [0.3413868 , 0.36331784, 0.03491294, 0.32319443],\n",
              "        [0.64460942, 0.17109439, 0.39738668, 0.54003851],\n",
              "        [0.36696804, 0.32804469, 0.13592073, 0.11251675],\n",
              "        [0.6402257 , 0.5125971 , 0.51229801, 0.3153002 ],\n",
              "        [0.30890103, 0.48984695, 0.30061942, 0.49898585]],\n",
              "\n",
              "       [[0.26216032, 0.61459628, 0.19010328, 0.62324805],\n",
              "        [0.38657474, 0.34548879, 0.22894522, 0.28000917],\n",
              "        [0.00566772, 0.86974648, 0.58871868, 0.07100114],\n",
              "        [0.04082756, 0.24693131, 0.28417145, 0.9215784 ],\n",
              "        [0.99619   , 0.50646887, 0.89173542, 0.4761759 ],\n",
              "        [0.09751064, 0.54928407, 0.83792557, 0.50194225]],\n",
              "\n",
              "       [[0.75490889, 0.25632637, 0.83768069, 0.75694141],\n",
              "        [0.98690499, 0.7592483 , 0.65523475, 0.26987745],\n",
              "        [0.565847  , 0.75886805, 0.30879878, 0.38830444],\n",
              "        [0.38624747, 0.06298405, 0.41556821, 0.40495123],\n",
              "        [0.85366174, 0.16650102, 0.38327543, 0.73229721],\n",
              "        [0.05705943, 0.88339491, 0.57557424, 0.2246699 ]]])"
            ]
          },
          "metadata": {},
          "execution_count": 21
        }
      ]
    },
    {
      "cell_type": "code",
      "source": [
        "train[1,:,3]"
      ],
      "metadata": {
        "colab": {
          "base_uri": "https://localhost:8080/"
        },
        "id": "Q3X1T_iGBzmi",
        "outputId": "ead124e4-0fc4-4dbf-88f8-d6300e0af419"
      },
      "execution_count": null,
      "outputs": [
        {
          "output_type": "execute_result",
          "data": {
            "text/plain": [
              "array([0.62324805, 0.28000917, 0.07100114, 0.9215784 , 0.4761759 ,\n",
              "       0.50194225])"
            ]
          },
          "metadata": {},
          "execution_count": 22
        }
      ]
    },
    {
      "cell_type": "code",
      "source": [
        "train[1,:,2]"
      ],
      "metadata": {
        "colab": {
          "base_uri": "https://localhost:8080/"
        },
        "id": "YUjqIPErCDGo",
        "outputId": "0d6c2467-067b-435b-d9be-030f18ffb35d"
      },
      "execution_count": null,
      "outputs": [
        {
          "output_type": "execute_result",
          "data": {
            "text/plain": [
              "array([0.19010328, 0.22894522, 0.58871868, 0.28417145, 0.89173542,\n",
              "       0.83792557])"
            ]
          },
          "metadata": {},
          "execution_count": 23
        }
      ]
    },
    {
      "cell_type": "code",
      "source": [
        "validation = np.random.rand(5,4,4)\n",
        "validation"
      ],
      "metadata": {
        "colab": {
          "base_uri": "https://localhost:8080/"
        },
        "id": "lvSLJQuHCDwg",
        "outputId": "078ba47d-979a-4fc3-da64-5baa82134946"
      },
      "execution_count": null,
      "outputs": [
        {
          "output_type": "execute_result",
          "data": {
            "text/plain": [
              "array([[[3.10325832e-01, 7.78451852e-01, 8.14974290e-01, 4.22211492e-02],\n",
              "        [1.63256013e-01, 3.88761613e-01, 7.56651121e-01, 7.42833088e-01],\n",
              "        [7.86810597e-01, 5.71625331e-01, 1.08271215e-01, 6.29853131e-01],\n",
              "        [1.89734820e-01, 3.93817486e-02, 2.33943249e-02, 2.06770162e-01]],\n",
              "\n",
              "       [[6.82487052e-01, 2.22991150e-01, 8.76207697e-01, 5.22257084e-01],\n",
              "        [4.40705022e-01, 4.74248311e-01, 3.02866410e-02, 1.76975878e-01],\n",
              "        [1.66832356e-01, 1.98859013e-01, 6.44501044e-01, 9.77661310e-01],\n",
              "        [9.98327561e-01, 8.91641947e-01, 5.56766072e-01, 8.14715911e-01]],\n",
              "\n",
              "       [[3.03691717e-01, 2.72363007e-01, 4.78645148e-01, 5.37611348e-01],\n",
              "        [9.82407980e-01, 3.37176936e-01, 3.45464649e-01, 3.07790346e-01],\n",
              "        [6.25563078e-01, 7.61847634e-02, 7.88401949e-01, 2.91843600e-01],\n",
              "        [8.03662432e-01, 7.64606821e-01, 6.51926610e-01, 1.58309504e-01]],\n",
              "\n",
              "       [[3.65034887e-01, 4.12315502e-01, 1.30122802e-01, 8.89302469e-01],\n",
              "        [1.43146224e-01, 6.09654816e-01, 3.13502574e-01, 2.77248283e-01],\n",
              "        [7.88209021e-01, 2.24925087e-01, 3.65794495e-01, 6.99226114e-01],\n",
              "        [3.23789824e-01, 1.96639724e-01, 3.39225106e-01, 9.42762496e-01]],\n",
              "\n",
              "       [[1.76334368e-01, 5.40689929e-01, 6.06992991e-01, 3.53002374e-01],\n",
              "        [6.55500338e-01, 4.81027511e-01, 2.05247763e-01, 4.62515003e-02],\n",
              "        [4.76398590e-02, 6.76032182e-01, 5.97119708e-01, 4.92707979e-01],\n",
              "        [7.35621181e-04, 5.69348738e-01, 6.68265038e-01, 2.37701359e-01]]])"
            ]
          },
          "metadata": {},
          "execution_count": 24
        }
      ]
    },
    {
      "cell_type": "code",
      "source": [
        "validation[3]"
      ],
      "metadata": {
        "colab": {
          "base_uri": "https://localhost:8080/"
        },
        "id": "wCp2TnkFCJsz",
        "outputId": "e272f107-e096-4ccb-df12-f351a84f2f50"
      },
      "execution_count": null,
      "outputs": [
        {
          "output_type": "execute_result",
          "data": {
            "text/plain": [
              "array([[0.36503489, 0.4123155 , 0.1301228 , 0.88930247],\n",
              "       [0.14314622, 0.60965482, 0.31350257, 0.27724828],\n",
              "       [0.78820902, 0.22492509, 0.3657945 , 0.69922611],\n",
              "       [0.32378982, 0.19663972, 0.33922511, 0.9427625 ]])"
            ]
          },
          "metadata": {},
          "execution_count": 25
        }
      ]
    },
    {
      "cell_type": "code",
      "source": [
        "validation[3][:,2:4]"
      ],
      "metadata": {
        "colab": {
          "base_uri": "https://localhost:8080/"
        },
        "id": "J5nByEfBCPi_",
        "outputId": "d55c6456-fce5-41e8-edde-767cae7fefa5"
      },
      "execution_count": null,
      "outputs": [
        {
          "output_type": "execute_result",
          "data": {
            "text/plain": [
              "array([[0.1301228 , 0.88930247],\n",
              "       [0.31350257, 0.27724828],\n",
              "       [0.3657945 , 0.69922611],\n",
              "       [0.33922511, 0.9427625 ]])"
            ]
          },
          "metadata": {},
          "execution_count": 26
        }
      ]
    },
    {
      "cell_type": "markdown",
      "source": [
        "##**Element wise operations**"
      ],
      "metadata": {
        "id": "_JPl2G5jCybE"
      }
    },
    {
      "cell_type": "code",
      "source": [
        "array1\n",
        "array2\n",
        "array3 = array1 + array2"
      ],
      "metadata": {
        "id": "bN9iQaYsC4fE"
      },
      "execution_count": null,
      "outputs": []
    },
    {
      "cell_type": "code",
      "source": [
        "array3"
      ],
      "metadata": {
        "colab": {
          "base_uri": "https://localhost:8080/"
        },
        "id": "puRAc_VbDDhT",
        "outputId": "97630e30-5e32-4d46-f808-18729c9cb527"
      },
      "execution_count": null,
      "outputs": [
        {
          "output_type": "execute_result",
          "data": {
            "text/plain": [
              "array([5, 7, 9])"
            ]
          },
          "metadata": {},
          "execution_count": 28
        }
      ]
    },
    {
      "cell_type": "code",
      "source": [
        "array1 * array2"
      ],
      "metadata": {
        "colab": {
          "base_uri": "https://localhost:8080/"
        },
        "id": "oPuWjuoUDEsC",
        "outputId": "f33dfe21-170a-48d6-f6aa-d6b6f5a790b1"
      },
      "execution_count": null,
      "outputs": [
        {
          "output_type": "execute_result",
          "data": {
            "text/plain": [
              "array([ 4, 10, 18])"
            ]
          },
          "metadata": {},
          "execution_count": 29
        }
      ]
    },
    {
      "cell_type": "code",
      "source": [
        "array1 - array2"
      ],
      "metadata": {
        "colab": {
          "base_uri": "https://localhost:8080/"
        },
        "id": "OBEw4mhkDHyQ",
        "outputId": "0bdabd25-cabf-4bf6-fce7-47c44444a6ed"
      },
      "execution_count": null,
      "outputs": [
        {
          "output_type": "execute_result",
          "data": {
            "text/plain": [
              "array([-3, -3, -3])"
            ]
          },
          "metadata": {},
          "execution_count": 30
        }
      ]
    },
    {
      "cell_type": "code",
      "source": [
        "array1 / array2"
      ],
      "metadata": {
        "colab": {
          "base_uri": "https://localhost:8080/"
        },
        "id": "7rAXf4YkDJW2",
        "outputId": "f00f8c76-ace7-499e-89b4-8dda53d44518"
      },
      "execution_count": null,
      "outputs": [
        {
          "output_type": "execute_result",
          "data": {
            "text/plain": [
              "array([0.25, 0.4 , 0.5 ])"
            ]
          },
          "metadata": {},
          "execution_count": 31
        }
      ]
    },
    {
      "cell_type": "code",
      "source": [
        "train = np.random.rand(2,2,2)\n",
        "train"
      ],
      "metadata": {
        "colab": {
          "base_uri": "https://localhost:8080/"
        },
        "id": "9dwkzoLsDQP-",
        "outputId": "8c98d2f4-96f0-4c68-c079-3d6932599f94"
      },
      "execution_count": null,
      "outputs": [
        {
          "output_type": "execute_result",
          "data": {
            "text/plain": [
              "array([[[0.24816141, 0.40926606],\n",
              "        [0.9548068 , 0.99586609]],\n",
              "\n",
              "       [[0.26512277, 0.30344091],\n",
              "        [0.78644463, 0.90705463]]])"
            ]
          },
          "metadata": {},
          "execution_count": 32
        }
      ]
    },
    {
      "cell_type": "code",
      "source": [
        "test = np.random.rand(2,2,2)\n",
        "test"
      ],
      "metadata": {
        "colab": {
          "base_uri": "https://localhost:8080/"
        },
        "id": "iMSJizrBDQ5f",
        "outputId": "bcfa3f36-fa5c-4991-e1eb-ffc6659e00b1"
      },
      "execution_count": null,
      "outputs": [
        {
          "output_type": "execute_result",
          "data": {
            "text/plain": [
              "array([[[0.88257172, 0.371337  ],\n",
              "        [0.87209877, 0.99415451]],\n",
              "\n",
              "       [[0.35627601, 0.26538321],\n",
              "        [0.33109467, 0.15110695]]])"
            ]
          },
          "metadata": {},
          "execution_count": 33
        }
      ]
    },
    {
      "cell_type": "code",
      "source": [
        "sum = train + test\n",
        "sum"
      ],
      "metadata": {
        "colab": {
          "base_uri": "https://localhost:8080/"
        },
        "id": "XQZkJfAeDbNd",
        "outputId": "0f718e97-84e9-45dd-8840-2a7c4c2e1c11"
      },
      "execution_count": null,
      "outputs": [
        {
          "output_type": "execute_result",
          "data": {
            "text/plain": [
              "array([[[1.13073313, 0.78060306],\n",
              "        [1.82690557, 1.9900206 ]],\n",
              "\n",
              "       [[0.62139878, 0.56882412],\n",
              "        [1.1175393 , 1.05816158]]])"
            ]
          },
          "metadata": {},
          "execution_count": 34
        }
      ]
    },
    {
      "cell_type": "markdown",
      "source": [
        "# **Vectorization**"
      ],
      "metadata": {
        "id": "Oe3ZuYzJDlvd"
      }
    },
    {
      "cell_type": "code",
      "source": [
        "def add_ten(x): # function\n",
        "  return x + 10\n",
        "\n",
        "vectorized_add_ten = np.vectorize(add_ten) # vectorized function\n",
        "\n",
        "vectorized_array3 = vectorized_add_ten(array3)\n",
        "\n",
        "vectorized_array3"
      ],
      "metadata": {
        "colab": {
          "base_uri": "https://localhost:8080/"
        },
        "id": "JsLFNi6eDj72",
        "outputId": "61f1d21a-5fd9-42bf-aa2d-d62b960dc0aa"
      },
      "execution_count": null,
      "outputs": [
        {
          "output_type": "execute_result",
          "data": {
            "text/plain": [
              "array([15, 17, 19])"
            ]
          },
          "metadata": {},
          "execution_count": 35
        }
      ]
    },
    {
      "cell_type": "code",
      "source": [
        "array3"
      ],
      "metadata": {
        "colab": {
          "base_uri": "https://localhost:8080/"
        },
        "id": "IStqBRKND-Fl",
        "outputId": "233b0886-06e2-461a-82f2-290bfec3e571"
      },
      "execution_count": null,
      "outputs": [
        {
          "output_type": "execute_result",
          "data": {
            "text/plain": [
              "array([5, 7, 9])"
            ]
          },
          "metadata": {},
          "execution_count": 36
        }
      ]
    },
    {
      "cell_type": "code",
      "source": [
        "import numpy as np\n",
        "# Broadcasting\n",
        "\n",
        "a = np.array([1,2,3])\n",
        "\n",
        "b = np.array([\n",
        "    [10],[20],[30]\n",
        "])"
      ],
      "metadata": {
        "id": "snNlNEO9EAu3"
      },
      "execution_count": null,
      "outputs": []
    },
    {
      "cell_type": "code",
      "source": [
        "a[0]"
      ],
      "metadata": {
        "colab": {
          "base_uri": "https://localhost:8080/"
        },
        "id": "nddXPgxkECpu",
        "outputId": "45a16230-cbfe-45e1-d775-b39747747917"
      },
      "execution_count": null,
      "outputs": [
        {
          "output_type": "execute_result",
          "data": {
            "text/plain": [
              "np.int64(1)"
            ]
          },
          "metadata": {},
          "execution_count": 38
        }
      ]
    },
    {
      "cell_type": "code",
      "source": [
        "b[0]"
      ],
      "metadata": {
        "colab": {
          "base_uri": "https://localhost:8080/"
        },
        "id": "2CC1VHMrEFP2",
        "outputId": "42ed8eb5-aeaa-4d90-e16b-b18bb4cb2719"
      },
      "execution_count": null,
      "outputs": [
        {
          "output_type": "execute_result",
          "data": {
            "text/plain": [
              "array([10])"
            ]
          },
          "metadata": {},
          "execution_count": 39
        }
      ]
    },
    {
      "cell_type": "code",
      "source": [
        "a.shape"
      ],
      "metadata": {
        "colab": {
          "base_uri": "https://localhost:8080/"
        },
        "id": "O0pR8uu-EGSK",
        "outputId": "45c8a526-d2ed-49d1-ae45-f5595aec3ff2"
      },
      "execution_count": null,
      "outputs": [
        {
          "output_type": "execute_result",
          "data": {
            "text/plain": [
              "(3,)"
            ]
          },
          "metadata": {},
          "execution_count": 40
        }
      ]
    },
    {
      "cell_type": "code",
      "source": [
        "b.shape"
      ],
      "metadata": {
        "colab": {
          "base_uri": "https://localhost:8080/"
        },
        "id": "Sikg2tKsEKzE",
        "outputId": "6b563aef-f52e-4b98-dba2-2d1953c84e19"
      },
      "execution_count": null,
      "outputs": [
        {
          "output_type": "execute_result",
          "data": {
            "text/plain": [
              "(3, 1)"
            ]
          },
          "metadata": {},
          "execution_count": 41
        }
      ]
    },
    {
      "cell_type": "code",
      "source": [
        "np.add(a,b)"
      ],
      "metadata": {
        "colab": {
          "base_uri": "https://localhost:8080/"
        },
        "id": "5gYHXynLESJD",
        "outputId": "fbe12b49-3d95-4860-84db-3d40cf431d73"
      },
      "execution_count": null,
      "outputs": [
        {
          "output_type": "execute_result",
          "data": {
            "text/plain": [
              "array([[11, 12, 13],\n",
              "       [21, 22, 23],\n",
              "       [31, 32, 33]])"
            ]
          },
          "metadata": {},
          "execution_count": 42
        }
      ]
    },
    {
      "cell_type": "code",
      "source": [
        "np.multiply(a,b)"
      ],
      "metadata": {
        "colab": {
          "base_uri": "https://localhost:8080/"
        },
        "id": "z_nKhJgcEWS0",
        "outputId": "2d50705f-7b4e-4c31-a27a-2b80a5e65632"
      },
      "execution_count": null,
      "outputs": [
        {
          "output_type": "execute_result",
          "data": {
            "text/plain": [
              "array([[10, 20, 30],\n",
              "       [20, 40, 60],\n",
              "       [30, 60, 90]])"
            ]
          },
          "metadata": {},
          "execution_count": 43
        }
      ]
    },
    {
      "cell_type": "code",
      "source": [
        "np.amax(a)"
      ],
      "metadata": {
        "colab": {
          "base_uri": "https://localhost:8080/"
        },
        "id": "F5VlUIrQEXO-",
        "outputId": "cefeab1e-d774-4061-ece8-90dce0356848"
      },
      "execution_count": null,
      "outputs": [
        {
          "output_type": "execute_result",
          "data": {
            "text/plain": [
              "np.int64(3)"
            ]
          },
          "metadata": {},
          "execution_count": 44
        }
      ]
    },
    {
      "cell_type": "code",
      "source": [
        "np.amin(a)"
      ],
      "metadata": {
        "colab": {
          "base_uri": "https://localhost:8080/"
        },
        "id": "3F_TGviMEZP6",
        "outputId": "02853e09-5d28-43ef-b7f7-1775cc5d0b7d"
      },
      "execution_count": null,
      "outputs": [
        {
          "output_type": "execute_result",
          "data": {
            "text/plain": [
              "np.int64(1)"
            ]
          },
          "metadata": {},
          "execution_count": 45
        }
      ]
    },
    {
      "cell_type": "code",
      "source": [
        "c = np.array([3,2,1])"
      ],
      "metadata": {
        "id": "G9nZaBUlEbab"
      },
      "execution_count": null,
      "outputs": []
    },
    {
      "cell_type": "code",
      "source": [
        "np.amax(c)"
      ],
      "metadata": {
        "colab": {
          "base_uri": "https://localhost:8080/"
        },
        "id": "uHis-enmEdJL",
        "outputId": "9ea9ea20-76de-4aa4-d9fc-79c282ed2cb1"
      },
      "execution_count": null,
      "outputs": [
        {
          "output_type": "execute_result",
          "data": {
            "text/plain": [
              "np.int64(3)"
            ]
          },
          "metadata": {},
          "execution_count": 47
        }
      ]
    },
    {
      "cell_type": "code",
      "source": [
        "np.amin(c)"
      ],
      "metadata": {
        "colab": {
          "base_uri": "https://localhost:8080/"
        },
        "id": "4mvhJprAEe6K",
        "outputId": "2bd519f3-8f3d-4306-ac1d-75a4c70aaeaf"
      },
      "execution_count": null,
      "outputs": [
        {
          "output_type": "execute_result",
          "data": {
            "text/plain": [
              "np.int64(1)"
            ]
          },
          "metadata": {},
          "execution_count": 48
        }
      ]
    },
    {
      "cell_type": "code",
      "source": [
        "np.max(c)"
      ],
      "metadata": {
        "colab": {
          "base_uri": "https://localhost:8080/"
        },
        "id": "Xjsfl2yCEhyP",
        "outputId": "e37c3682-5a8b-4e10-e1e1-8e6d82c27eaf"
      },
      "execution_count": null,
      "outputs": [
        {
          "output_type": "execute_result",
          "data": {
            "text/plain": [
              "np.int64(3)"
            ]
          },
          "metadata": {},
          "execution_count": 49
        }
      ]
    },
    {
      "cell_type": "code",
      "source": [
        "np.argmax(c)"
      ],
      "metadata": {
        "colab": {
          "base_uri": "https://localhost:8080/"
        },
        "id": "RMmevmwhEjgZ",
        "outputId": "d8881074-0b5d-4d2d-d6c6-b5afe7e004fe"
      },
      "execution_count": null,
      "outputs": [
        {
          "output_type": "execute_result",
          "data": {
            "text/plain": [
              "np.int64(0)"
            ]
          },
          "metadata": {},
          "execution_count": 50
        }
      ]
    },
    {
      "cell_type": "code",
      "source": [
        "np.mean(a)"
      ],
      "metadata": {
        "colab": {
          "base_uri": "https://localhost:8080/"
        },
        "id": "OVbxjdS5EldG",
        "outputId": "f1634b10-0eb2-4b72-aa52-e0381905cdaa"
      },
      "execution_count": null,
      "outputs": [
        {
          "output_type": "execute_result",
          "data": {
            "text/plain": [
              "np.float64(2.0)"
            ]
          },
          "metadata": {},
          "execution_count": 51
        }
      ]
    },
    {
      "cell_type": "code",
      "source": [
        "X = np.linspace(0,3.14, 100)"
      ],
      "metadata": {
        "id": "rRDl61quEoHW"
      },
      "execution_count": null,
      "outputs": []
    },
    {
      "cell_type": "code",
      "source": [
        "Y = np.sin(X)\n",
        "import matplotlib.pyplot as plt\n",
        "\n",
        "plt.plot(X,Y)"
      ],
      "metadata": {
        "colab": {
          "base_uri": "https://localhost:8080/",
          "height": 447
        },
        "id": "0tU8yrVOEsz_",
        "outputId": "aad4013b-5907-4143-a7fa-b427ea748f7b"
      },
      "execution_count": null,
      "outputs": [
        {
          "output_type": "execute_result",
          "data": {
            "text/plain": [
              "[<matplotlib.lines.Line2D at 0x791f2aa81f10>]"
            ]
          },
          "metadata": {},
          "execution_count": 53
        },
        {
          "output_type": "display_data",
          "data": {
            "text/plain": [
              "<Figure size 640x480 with 1 Axes>"
            ],
            "image/png": "[encoded data removed]"
          },
          "metadata": {}
        }
      ]
    },
    {
      "cell_type": "code",
      "source": [
        "X = np.linspace(0, 6.29, 200)\n",
        "X"
      ],
      "metadata": {
        "colab": {
          "base_uri": "https://localhost:8080/"
        },
        "id": "9FqhAVfPEtUR",
        "outputId": "956dab78-936c-47d9-e8bd-dd3bdeeee1d4"
      },
      "execution_count": null,
      "outputs": [
        {
          "output_type": "execute_result",
          "data": {
            "text/plain": [
              "array([0.        , 0.03160804, 0.06321608, 0.09482412, 0.12643216,\n",
              "       0.1580402 , 0.18964824, 0.22125628, 0.25286432, 0.28447236,\n",
              "       0.3160804 , 0.34768844, 0.37929648, 0.41090452, 0.44251256,\n",
              "       0.4741206 , 0.50572864, 0.53733668, 0.56894472, 0.60055276,\n",
              "       0.6321608 , 0.66376884, 0.69537688, 0.72698492, 0.75859296,\n",
              "       0.79020101, 0.82180905, 0.85341709, 0.88502513, 0.91663317,\n",
              "       0.94824121, 0.97984925, 1.01145729, 1.04306533, 1.07467337,\n",
              "       1.10628141, 1.13788945, 1.16949749, 1.20110553, 1.23271357,\n",
              "       1.26432161, 1.29592965, 1.32753769, 1.35914573, 1.39075377,\n",
              "       1.42236181, 1.45396985, 1.48557789, 1.51718593, 1.54879397,\n",
              "       1.58040201, 1.61201005, 1.64361809, 1.67522613, 1.70683417,\n",
              "       1.73844221, 1.77005025, 1.80165829, 1.83326633, 1.86487437,\n",
              "       1.89648241, 1.92809045, 1.95969849, 1.99130653, 2.02291457,\n",
              "       2.05452261, 2.08613065, 2.11773869, 2.14934673, 2.18095477,\n",
              "       2.21256281, 2.24417085, 2.27577889, 2.30738693, 2.33899497,\n",
              "       2.37060302, 2.40221106, 2.4338191 , 2.46542714, 2.49703518,\n",
              "       2.52864322, 2.56025126, 2.5918593 , 2.62346734, 2.65507538,\n",
              "       2.68668342, 2.71829146, 2.7498995 , 2.78150754, 2.81311558,\n",
              "       2.84472362, 2.87633166, 2.9079397 , 2.93954774, 2.97115578,\n",
              "       3.00276382, 3.03437186, 3.0659799 , 3.09758794, 3.12919598,\n",
              "       3.16080402, 3.19241206, 3.2240201 , 3.25562814, 3.28723618,\n",
              "       3.31884422, 3.35045226, 3.3820603 , 3.41366834, 3.44527638,\n",
              "       3.47688442, 3.50849246, 3.5401005 , 3.57170854, 3.60331658,\n",
              "       3.63492462, 3.66653266, 3.6981407 , 3.72974874, 3.76135678,\n",
              "       3.79296482, 3.82457286, 3.8561809 , 3.88778894, 3.91939698,\n",
              "       3.95100503, 3.98261307, 4.01422111, 4.04582915, 4.07743719,\n",
              "       4.10904523, 4.14065327, 4.17226131, 4.20386935, 4.23547739,\n",
              "       4.26708543, 4.29869347, 4.33030151, 4.36190955, 4.39351759,\n",
              "       4.42512563, 4.45673367, 4.48834171, 4.51994975, 4.55155779,\n",
              "       4.58316583, 4.61477387, 4.64638191, 4.67798995, 4.70959799,\n",
              "       4.74120603, 4.77281407, 4.80442211, 4.83603015, 4.86763819,\n",
              "       4.89924623, 4.93085427, 4.96246231, 4.99407035, 5.02567839,\n",
              "       5.05728643, 5.08889447, 5.12050251, 5.15211055, 5.18371859,\n",
              "       5.21532663, 5.24693467, 5.27854271, 5.31015075, 5.34175879,\n",
              "       5.37336683, 5.40497487, 5.43658291, 5.46819095, 5.49979899,\n",
              "       5.53140704, 5.56301508, 5.59462312, 5.62623116, 5.6578392 ,\n",
              "       5.68944724, 5.72105528, 5.75266332, 5.78427136, 5.8158794 ,\n",
              "       5.84748744, 5.87909548, 5.91070352, 5.94231156, 5.9739196 ,\n",
              "       6.00552764, 6.03713568, 6.06874372, 6.10035176, 6.1319598 ,\n",
              "       6.16356784, 6.19517588, 6.22678392, 6.25839196, 6.29      ])"
            ]
          },
          "metadata": {},
          "execution_count": 54
        }
      ]
    },
    {
      "cell_type": "code",
      "source": [
        "Y = np.sin(X)\n",
        "plt.plot(X,Y)"
      ],
      "metadata": {
        "colab": {
          "base_uri": "https://localhost:8080/",
          "height": 447
        },
        "id": "Gtyafn7HE-n8",
        "outputId": "f859c181-1ec8-46b2-a4ae-625ae5247f48"
      },
      "execution_count": null,
      "outputs": [
        {
          "output_type": "execute_result",
          "data": {
            "text/plain": [
              "[<matplotlib.lines.Line2D at 0x791f2aaff0e0>]"
            ]
          },
          "metadata": {},
          "execution_count": 55
        },
        {
          "output_type": "display_data",
          "data": {
            "text/plain": [
              "<Figure size 640x480 with 1 Axes>"
            ],
            "image/png": "[encoded data removed]"
          },
          "metadata": {}
        }
      ]
    },
    {
      "cell_type": "code",
      "source": [
        "X"
      ],
      "metadata": {
        "colab": {
          "base_uri": "https://localhost:8080/"
        },
        "id": "nnveHyszFD5N",
        "outputId": "15b748e1-08a7-415b-c8ed-9ee0a168e7ce"
      },
      "execution_count": null,
      "outputs": [
        {
          "output_type": "execute_result",
          "data": {
            "text/plain": [
              "array([0.        , 0.03160804, 0.06321608, 0.09482412, 0.12643216,\n",
              "       0.1580402 , 0.18964824, 0.22125628, 0.25286432, 0.28447236,\n",
              "       0.3160804 , 0.34768844, 0.37929648, 0.41090452, 0.44251256,\n",
              "       0.4741206 , 0.50572864, 0.53733668, 0.56894472, 0.60055276,\n",
              "       0.6321608 , 0.66376884, 0.69537688, 0.72698492, 0.75859296,\n",
              "       0.79020101, 0.82180905, 0.85341709, 0.88502513, 0.91663317,\n",
              "       0.94824121, 0.97984925, 1.01145729, 1.04306533, 1.07467337,\n",
              "       1.10628141, 1.13788945, 1.16949749, 1.20110553, 1.23271357,\n",
              "       1.26432161, 1.29592965, 1.32753769, 1.35914573, 1.39075377,\n",
              "       1.42236181, 1.45396985, 1.48557789, 1.51718593, 1.54879397,\n",
              "       1.58040201, 1.61201005, 1.64361809, 1.67522613, 1.70683417,\n",
              "       1.73844221, 1.77005025, 1.80165829, 1.83326633, 1.86487437,\n",
              "       1.89648241, 1.92809045, 1.95969849, 1.99130653, 2.02291457,\n",
              "       2.05452261, 2.08613065, 2.11773869, 2.14934673, 2.18095477,\n",
              "       2.21256281, 2.24417085, 2.27577889, 2.30738693, 2.33899497,\n",
              "       2.37060302, 2.40221106, 2.4338191 , 2.46542714, 2.49703518,\n",
              "       2.52864322, 2.56025126, 2.5918593 , 2.62346734, 2.65507538,\n",
              "       2.68668342, 2.71829146, 2.7498995 , 2.78150754, 2.81311558,\n",
              "       2.84472362, 2.87633166, 2.9079397 , 2.93954774, 2.97115578,\n",
              "       3.00276382, 3.03437186, 3.0659799 , 3.09758794, 3.12919598,\n",
              "       3.16080402, 3.19241206, 3.2240201 , 3.25562814, 3.28723618,\n",
              "       3.31884422, 3.35045226, 3.3820603 , 3.41366834, 3.44527638,\n",
              "       3.47688442, 3.50849246, 3.5401005 , 3.57170854, 3.60331658,\n",
              "       3.63492462, 3.66653266, 3.6981407 , 3.72974874, 3.76135678,\n",
              "       3.79296482, 3.82457286, 3.8561809 , 3.88778894, 3.91939698,\n",
              "       3.95100503, 3.98261307, 4.01422111, 4.04582915, 4.07743719,\n",
              "       4.10904523, 4.14065327, 4.17226131, 4.20386935, 4.23547739,\n",
              "       4.26708543, 4.29869347, 4.33030151, 4.36190955, 4.39351759,\n",
              "       4.42512563, 4.45673367, 4.48834171, 4.51994975, 4.55155779,\n",
              "       4.58316583, 4.61477387, 4.64638191, 4.67798995, 4.70959799,\n",
              "       4.74120603, 4.77281407, 4.80442211, 4.83603015, 4.86763819,\n",
              "       4.89924623, 4.93085427, 4.96246231, 4.99407035, 5.02567839,\n",
              "       5.05728643, 5.08889447, 5.12050251, 5.15211055, 5.18371859,\n",
              "       5.21532663, 5.24693467, 5.27854271, 5.31015075, 5.34175879,\n",
              "       5.37336683, 5.40497487, 5.43658291, 5.46819095, 5.49979899,\n",
              "       5.53140704, 5.56301508, 5.59462312, 5.62623116, 5.6578392 ,\n",
              "       5.68944724, 5.72105528, 5.75266332, 5.78427136, 5.8158794 ,\n",
              "       5.84748744, 5.87909548, 5.91070352, 5.94231156, 5.9739196 ,\n",
              "       6.00552764, 6.03713568, 6.06874372, 6.10035176, 6.1319598 ,\n",
              "       6.16356784, 6.19517588, 6.22678392, 6.25839196, 6.29      ])"
            ]
          },
          "metadata": {},
          "execution_count": 56
        }
      ]
    },
    {
      "cell_type": "code",
      "source": [
        "y_cos = np.cos(X)\n",
        "plt.plot(X,y_cos)"
      ],
      "metadata": {
        "colab": {
          "base_uri": "https://localhost:8080/",
          "height": 447
        },
        "id": "Mv-jR6I8FIjx",
        "outputId": "f450b680-29fa-490a-d73b-7e9f5c1c1307"
      },
      "execution_count": null,
      "outputs": [
        {
          "output_type": "execute_result",
          "data": {
            "text/plain": [
              "[<matplotlib.lines.Line2D at 0x791f2886c920>]"
            ]
          },
          "metadata": {},
          "execution_count": 57
        },
        {
          "output_type": "display_data",
          "data": {
            "text/plain": [
              "<Figure size 640x480 with 1 Axes>"
            ],
            "image/png": "[encoded data removed]"
          },
          "metadata": {}
        }
      ]
    },
    {
      "cell_type": "code",
      "source": [
        "X_cos = np.linspace(-6.28,6.28, 400)\n",
        "X_cos"
      ],
      "metadata": {
        "colab": {
          "base_uri": "https://localhost:8080/"
        },
        "id": "CMYBPpZ0FK_N",
        "outputId": "914bd20d-b4d4-4613-9ea5-fd2f0267d066"
      },
      "execution_count": null,
      "outputs": [
        {
          "output_type": "execute_result",
          "data": {
            "text/plain": [
              "array([-6.28      , -6.2485213 , -6.21704261, -6.18556391, -6.15408521,\n",
              "       -6.12260652, -6.09112782, -6.05964912, -6.02817043, -5.99669173,\n",
              "       -5.96521303, -5.93373434, -5.90225564, -5.87077694, -5.83929825,\n",
              "       -5.80781955, -5.77634085, -5.74486216, -5.71338346, -5.68190476,\n",
              "       -5.65042607, -5.61894737, -5.58746867, -5.55598997, -5.52451128,\n",
              "       -5.49303258, -5.46155388, -5.43007519, -5.39859649, -5.36711779,\n",
              "       -5.3356391 , -5.3041604 , -5.2726817 , -5.24120301, -5.20972431,\n",
              "       -5.17824561, -5.14676692, -5.11528822, -5.08380952, -5.05233083,\n",
              "       -5.02085213, -4.98937343, -4.95789474, -4.92641604, -4.89493734,\n",
              "       -4.86345865, -4.83197995, -4.80050125, -4.76902256, -4.73754386,\n",
              "       -4.70606516, -4.67458647, -4.64310777, -4.61162907, -4.58015038,\n",
              "       -4.54867168, -4.51719298, -4.48571429, -4.45423559, -4.42275689,\n",
              "       -4.3912782 , -4.3597995 , -4.3283208 , -4.29684211, -4.26536341,\n",
              "       -4.23388471, -4.20240602, -4.17092732, -4.13944862, -4.10796992,\n",
              "       -4.07649123, -4.04501253, -4.01353383, -3.98205514, -3.95057644,\n",
              "       -3.91909774, -3.88761905, -3.85614035, -3.82466165, -3.79318296,\n",
              "       -3.76170426, -3.73022556, -3.69874687, -3.66726817, -3.63578947,\n",
              "       -3.60431078, -3.57283208, -3.54135338, -3.50987469, -3.47839599,\n",
              "       -3.44691729, -3.4154386 , -3.3839599 , -3.3524812 , -3.32100251,\n",
              "       -3.28952381, -3.25804511, -3.22656642, -3.19508772, -3.16360902,\n",
              "       -3.13213033, -3.10065163, -3.06917293, -3.03769424, -3.00621554,\n",
              "       -2.97473684, -2.94325815, -2.91177945, -2.88030075, -2.84882206,\n",
              "       -2.81734336, -2.78586466, -2.75438596, -2.72290727, -2.69142857,\n",
              "       -2.65994987, -2.62847118, -2.59699248, -2.56551378, -2.53403509,\n",
              "       -2.50255639, -2.47107769, -2.439599  , -2.4081203 , -2.3766416 ,\n",
              "       -2.34516291, -2.31368421, -2.28220551, -2.25072682, -2.21924812,\n",
              "       -2.18776942, -2.15629073, -2.12481203, -2.09333333, -2.06185464,\n",
              "       -2.03037594, -1.99889724, -1.96741855, -1.93593985, -1.90446115,\n",
              "       -1.87298246, -1.84150376, -1.81002506, -1.77854637, -1.74706767,\n",
              "       -1.71558897, -1.68411028, -1.65263158, -1.62115288, -1.58967419,\n",
              "       -1.55819549, -1.52671679, -1.4952381 , -1.4637594 , -1.4322807 ,\n",
              "       -1.40080201, -1.36932331, -1.33784461, -1.30636591, -1.27488722,\n",
              "       -1.24340852, -1.21192982, -1.18045113, -1.14897243, -1.11749373,\n",
              "       -1.08601504, -1.05453634, -1.02305764, -0.99157895, -0.96010025,\n",
              "       -0.92862155, -0.89714286, -0.86566416, -0.83418546, -0.80270677,\n",
              "       -0.77122807, -0.73974937, -0.70827068, -0.67679198, -0.64531328,\n",
              "       -0.61383459, -0.58235589, -0.55087719, -0.5193985 , -0.4879198 ,\n",
              "       -0.4564411 , -0.42496241, -0.39348371, -0.36200501, -0.33052632,\n",
              "       -0.29904762, -0.26756892, -0.23609023, -0.20461153, -0.17313283,\n",
              "       -0.14165414, -0.11017544, -0.07869674, -0.04721805, -0.01573935,\n",
              "        0.01573935,  0.04721805,  0.07869674,  0.11017544,  0.14165414,\n",
              "        0.17313283,  0.20461153,  0.23609023,  0.26756892,  0.29904762,\n",
              "        0.33052632,  0.36200501,  0.39348371,  0.42496241,  0.4564411 ,\n",
              "        0.4879198 ,  0.5193985 ,  0.55087719,  0.58235589,  0.61383459,\n",
              "        0.64531328,  0.67679198,  0.70827068,  0.73974937,  0.77122807,\n",
              "        0.80270677,  0.83418546,  0.86566416,  0.89714286,  0.92862155,\n",
              "        0.96010025,  0.99157895,  1.02305764,  1.05453634,  1.08601504,\n",
              "        1.11749373,  1.14897243,  1.18045113,  1.21192982,  1.24340852,\n",
              "        1.27488722,  1.30636591,  1.33784461,  1.36932331,  1.40080201,\n",
              "        1.4322807 ,  1.4637594 ,  1.4952381 ,  1.52671679,  1.55819549,\n",
              "        1.58967419,  1.62115288,  1.65263158,  1.68411028,  1.71558897,\n",
              "        1.74706767,  1.77854637,  1.81002506,  1.84150376,  1.87298246,\n",
              "        1.90446115,  1.93593985,  1.96741855,  1.99889724,  2.03037594,\n",
              "        2.06185464,  2.09333333,  2.12481203,  2.15629073,  2.18776942,\n",
              "        2.21924812,  2.25072682,  2.28220551,  2.31368421,  2.34516291,\n",
              "        2.3766416 ,  2.4081203 ,  2.439599  ,  2.47107769,  2.50255639,\n",
              "        2.53403509,  2.56551378,  2.59699248,  2.62847118,  2.65994987,\n",
              "        2.69142857,  2.72290727,  2.75438596,  2.78586466,  2.81734336,\n",
              "        2.84882206,  2.88030075,  2.91177945,  2.94325815,  2.97473684,\n",
              "        3.00621554,  3.03769424,  3.06917293,  3.10065163,  3.13213033,\n",
              "        3.16360902,  3.19508772,  3.22656642,  3.25804511,  3.28952381,\n",
              "        3.32100251,  3.3524812 ,  3.3839599 ,  3.4154386 ,  3.44691729,\n",
              "        3.47839599,  3.50987469,  3.54135338,  3.57283208,  3.60431078,\n",
              "        3.63578947,  3.66726817,  3.69874687,  3.73022556,  3.76170426,\n",
              "        3.79318296,  3.82466165,  3.85614035,  3.88761905,  3.91909774,\n",
              "        3.95057644,  3.98205514,  4.01353383,  4.04501253,  4.07649123,\n",
              "        4.10796992,  4.13944862,  4.17092732,  4.20240602,  4.23388471,\n",
              "        4.26536341,  4.29684211,  4.3283208 ,  4.3597995 ,  4.3912782 ,\n",
              "        4.42275689,  4.45423559,  4.48571429,  4.51719298,  4.54867168,\n",
              "        4.58015038,  4.61162907,  4.64310777,  4.67458647,  4.70606516,\n",
              "        4.73754386,  4.76902256,  4.80050125,  4.83197995,  4.86345865,\n",
              "        4.89493734,  4.92641604,  4.95789474,  4.98937343,  5.02085213,\n",
              "        5.05233083,  5.08380952,  5.11528822,  5.14676692,  5.17824561,\n",
              "        5.20972431,  5.24120301,  5.2726817 ,  5.3041604 ,  5.3356391 ,\n",
              "        5.36711779,  5.39859649,  5.43007519,  5.46155388,  5.49303258,\n",
              "        5.52451128,  5.55598997,  5.58746867,  5.61894737,  5.65042607,\n",
              "        5.68190476,  5.71338346,  5.74486216,  5.77634085,  5.80781955,\n",
              "        5.83929825,  5.87077694,  5.90225564,  5.93373434,  5.96521303,\n",
              "        5.99669173,  6.02817043,  6.05964912,  6.09112782,  6.12260652,\n",
              "        6.15408521,  6.18556391,  6.21704261,  6.2485213 ,  6.28      ])"
            ]
          },
          "metadata": {},
          "execution_count": 58
        }
      ]
    },
    {
      "cell_type": "code",
      "source": [
        "y_cos = np.cos(X_cos)\n",
        "plt.plot(X_cos,y_cos)"
      ],
      "metadata": {
        "colab": {
          "base_uri": "https://localhost:8080/",
          "height": 447
        },
        "id": "kGrR2d0zFRAZ",
        "outputId": "9b0ae7d6-9d07-4170-cfcd-c7603f044051"
      },
      "execution_count": null,
      "outputs": [
        {
          "output_type": "execute_result",
          "data": {
            "text/plain": [
              "[<matplotlib.lines.Line2D at 0x791f288f5fa0>]"
            ]
          },
          "metadata": {},
          "execution_count": 59
        },
        {
          "output_type": "display_data",
          "data": {
            "text/plain": [
              "<Figure size 640x480 with 1 Axes>"
            ],
            "image/png": "[encoded data removed]"
          },
          "metadata": {}
        }
      ]
    },
    {
      "cell_type": "code",
      "source": [
        "data = np.array([1,2,3,4,5,6,7,8,9])\n",
        "filter = data > 3 # is going to create a boolean array\n",
        "filter"
      ],
      "metadata": {
        "colab": {
          "base_uri": "https://localhost:8080/"
        },
        "id": "kb7LUizsFVy1",
        "outputId": "a6a434e5-26c1-4cb5-82c0-609753eb733f"
      },
      "execution_count": null,
      "outputs": [
        {
          "output_type": "execute_result",
          "data": {
            "text/plain": [
              "array([False, False, False,  True,  True,  True,  True,  True,  True])"
            ]
          },
          "metadata": {},
          "execution_count": 60
        }
      ]
    },
    {
      "cell_type": "code",
      "source": [
        "data[filter]"
      ],
      "metadata": {
        "colab": {
          "base_uri": "https://localhost:8080/"
        },
        "id": "Yho1X1zdFb8i",
        "outputId": "934ae8c6-62d9-4f36-d74e-764f36f2fade"
      },
      "execution_count": null,
      "outputs": [
        {
          "output_type": "execute_result",
          "data": {
            "text/plain": [
              "array([4, 5, 6, 7, 8, 9])"
            ]
          },
          "metadata": {},
          "execution_count": 61
        }
      ]
    },
    {
      "cell_type": "code",
      "source": [
        "data1=np.random.randint(10,41,200)\n",
        "filter1=data1>30\n",
        "filter1"
      ],
      "metadata": {
        "colab": {
          "base_uri": "https://localhost:8080/"
        },
        "id": "7RNlQ-iyFd3_",
        "outputId": "79278c47-233a-4b7f-b66a-822b565dba76"
      },
      "execution_count": null,
      "outputs": [
        {
          "output_type": "execute_result",
          "data": {
            "text/plain": [
              "array([False, False, False, False,  True, False, False, False,  True,\n",
              "       False, False,  True, False, False,  True, False,  True,  True,\n",
              "       False, False, False, False, False,  True, False, False, False,\n",
              "       False, False, False,  True,  True, False,  True,  True, False,\n",
              "        True,  True,  True, False, False,  True, False,  True, False,\n",
              "       False, False,  True,  True, False,  True, False, False,  True,\n",
              "       False, False, False,  True, False, False, False, False, False,\n",
              "       False,  True, False, False, False, False, False, False, False,\n",
              "       False, False, False,  True,  True,  True, False, False, False,\n",
              "       False, False, False, False, False, False,  True, False, False,\n",
              "        True, False, False,  True, False,  True,  True, False,  True,\n",
              "       False, False,  True, False, False,  True, False,  True, False,\n",
              "       False, False,  True,  True, False,  True,  True, False, False,\n",
              "       False, False, False, False,  True,  True,  True,  True, False,\n",
              "       False, False,  True,  True,  True,  True,  True, False,  True,\n",
              "        True,  True,  True,  True, False,  True, False, False, False,\n",
              "        True,  True,  True, False,  True, False, False, False,  True,\n",
              "       False, False, False, False, False, False, False, False, False,\n",
              "       False, False,  True, False,  True, False,  True, False,  True,\n",
              "       False,  True, False,  True, False, False, False, False, False,\n",
              "        True, False, False, False, False, False, False, False, False,\n",
              "       False,  True, False, False,  True, False, False, False,  True,\n",
              "       False, False])"
            ]
          },
          "metadata": {},
          "execution_count": 62
        }
      ]
    },
    {
      "cell_type": "code",
      "source": [
        "data1"
      ],
      "metadata": {
        "colab": {
          "base_uri": "https://localhost:8080/"
        },
        "id": "hJCIbBbDFf8W",
        "outputId": "5c39d850-ad10-4b69-815f-650df5ee13df"
      },
      "execution_count": null,
      "outputs": [
        {
          "output_type": "execute_result",
          "data": {
            "text/plain": [
              "array([30, 26, 20, 18, 34, 13, 26, 30, 31, 29, 29, 34, 27, 17, 31, 24, 40,\n",
              "       37, 24, 22, 28, 27, 16, 32, 12, 19, 12, 14, 19, 30, 36, 33, 16, 36,\n",
              "       32, 16, 40, 34, 33, 29, 12, 31, 27, 38, 12, 28, 16, 38, 35, 23, 38,\n",
              "       12, 23, 32, 24, 19, 17, 37, 13, 22, 29, 13, 30, 23, 37, 23, 26, 24,\n",
              "       15, 22, 11, 24, 12, 19, 24, 31, 34, 33, 15, 17, 13, 27, 19, 13, 19,\n",
              "       24, 13, 37, 17, 22, 39, 11, 27, 33, 29, 39, 33, 13, 39, 18, 26, 31,\n",
              "       18, 11, 32, 13, 39, 24, 24, 27, 33, 33, 19, 35, 40, 29, 18, 30, 26,\n",
              "       14, 12, 32, 39, 36, 31, 26, 26, 18, 36, 33, 37, 39, 36, 14, 32, 37,\n",
              "       37, 34, 36, 18, 35, 19, 12, 10, 32, 40, 35, 24, 38, 27, 21, 17, 33,\n",
              "       10, 17, 11, 14, 18, 13, 18, 23, 10, 13, 29, 40, 20, 37, 16, 37, 14,\n",
              "       33, 26, 31, 15, 33, 14, 27, 30, 11, 28, 32, 21, 20, 18, 25, 11, 16,\n",
              "       22, 24, 23, 39, 11, 10, 31, 21, 18, 22, 34, 19, 29])"
            ]
          },
          "metadata": {},
          "execution_count": 63
        }
      ]
    },
    {
      "cell_type": "code",
      "source": [
        "data1[filter1]"
      ],
      "metadata": {
        "colab": {
          "base_uri": "https://localhost:8080/"
        },
        "id": "m4i0ip7KFiwf",
        "outputId": "7abc64c6-dab0-4d0e-e074-4716a189569d"
      },
      "execution_count": null,
      "outputs": [
        {
          "output_type": "execute_result",
          "data": {
            "text/plain": [
              "array([34, 31, 34, 31, 40, 37, 32, 36, 33, 36, 32, 40, 34, 33, 31, 38, 38,\n",
              "       35, 38, 32, 37, 37, 31, 34, 33, 37, 39, 33, 39, 33, 39, 31, 32, 39,\n",
              "       33, 33, 35, 40, 32, 39, 36, 31, 36, 33, 37, 39, 36, 32, 37, 37, 34,\n",
              "       36, 35, 32, 40, 35, 38, 33, 40, 37, 37, 33, 31, 33, 32, 39, 31, 34])"
            ]
          },
          "metadata": {},
          "execution_count": 64
        }
      ]
    },
    {
      "cell_type": "code",
      "source": [
        "indices = [10,20,30,40,50,60,70,80,90]\n",
        "data1[indices]"
      ],
      "metadata": {
        "colab": {
          "base_uri": "https://localhost:8080/"
        },
        "id": "Y3-fW6vZFkl9",
        "outputId": "f9ab3cbc-263e-4168-b95c-3d724e73e437"
      },
      "execution_count": null,
      "outputs": [
        {
          "output_type": "execute_result",
          "data": {
            "text/plain": [
              "array([29, 28, 36, 12, 38, 29, 11, 13, 39])"
            ]
          },
          "metadata": {},
          "execution_count": 65
        }
      ]
    },
    {
      "cell_type": "code",
      "source": [
        "data1[10]"
      ],
      "metadata": {
        "id": "xqLv-NUOFp3t",
        "colab": {
          "base_uri": "https://localhost:8080/"
        },
        "outputId": "613ca1ca-8084-4d07-847a-2e74cc2dda43"
      },
      "execution_count": null,
      "outputs": [
        {
          "output_type": "execute_result",
          "data": {
            "text/plain": [
              "np.int64(29)"
            ]
          },
          "metadata": {},
          "execution_count": 66
        }
      ]
    },
    {
      "cell_type": "code",
      "source": [
        "data1[[1,2,3,4]]"
      ],
      "metadata": {
        "colab": {
          "base_uri": "https://localhost:8080/"
        },
        "id": "dBD3DHjMowws",
        "outputId": "f7ae2c58-52ff-4056-8615-8e11c4d3b4f2"
      },
      "execution_count": null,
      "outputs": [
        {
          "output_type": "execute_result",
          "data": {
            "text/plain": [
              "array([26, 20, 18, 34])"
            ]
          },
          "metadata": {},
          "execution_count": 67
        }
      ]
    },
    {
      "cell_type": "code",
      "source": [
        "dtype = [('name','S10'),('age', int)]\n",
        "data = np.array([(\"Alice\", 20), (\"Chandana\", 21)], dtype=dtype)\n",
        "data"
      ],
      "metadata": {
        "colab": {
          "base_uri": "https://localhost:8080/"
        },
        "id": "iOuXv4HRpLSS",
        "outputId": "58796b0f-5862-4d1b-ea44-393d69b3c1ca"
      },
      "execution_count": null,
      "outputs": [
        {
          "output_type": "execute_result",
          "data": {
            "text/plain": [
              "array([(b'Alice', 20), (b'Chandana', 21)],\n",
              "      dtype=[('name', 'S10'), ('age', '<i8')])"
            ]
          },
          "metadata": {},
          "execution_count": 68
        }
      ]
    },
    {
      "cell_type": "code",
      "source": [
        "data['name']"
      ],
      "metadata": {
        "colab": {
          "base_uri": "https://localhost:8080/"
        },
        "id": "UcA7DiPppYTo",
        "outputId": "34154f4f-edd4-42dc-a660-420967dda65a"
      },
      "execution_count": null,
      "outputs": [
        {
          "output_type": "execute_result",
          "data": {
            "text/plain": [
              "array([b'Alice', b'Chandana'], dtype='|S10')"
            ]
          },
          "metadata": {},
          "execution_count": 69
        }
      ]
    },
    {
      "cell_type": "code",
      "source": [
        "data['age']"
      ],
      "metadata": {
        "colab": {
          "base_uri": "https://localhost:8080/"
        },
        "id": "0h-iLzK5parQ",
        "outputId": "00f6a74d-417c-408a-da53-3b00385bcc09"
      },
      "execution_count": null,
      "outputs": [
        {
          "output_type": "execute_result",
          "data": {
            "text/plain": [
              "array([20, 21])"
            ]
          },
          "metadata": {},
          "execution_count": 70
        }
      ]
    },
    {
      "cell_type": "code",
      "source": [
        "# Data frame\n",
        "\n",
        "d = [(\"name\", \"S15\"), (\"age\", int), (\"marks\", float)]\n"
      ],
      "metadata": {
        "id": "X0wpEBnepgKQ"
      },
      "execution_count": null,
      "outputs": []
    },
    {
      "cell_type": "code",
      "source": [
        "student_info = np.array([(\"Krishna\", 3.1 , 10)], dtype = d)\n",
        "student_info"
      ],
      "metadata": {
        "colab": {
          "base_uri": "https://localhost:8080/"
        },
        "id": "y1cjbOFFpvBi",
        "outputId": "af62472d-4548-4512-e4d6-6ad405c22e63"
      },
      "execution_count": null,
      "outputs": [
        {
          "output_type": "execute_result",
          "data": {
            "text/plain": [
              "array([(b'Krishna', 3, 10.)],\n",
              "      dtype=[('name', 'S15'), ('age', '<i8'), ('marks', '<f8')])"
            ]
          },
          "metadata": {},
          "execution_count": 72
        }
      ]
    },
    {
      "cell_type": "code",
      "source": [
        "c = [(\"name\", \"S15\"), (\"age\", int), (\"marks\", float), (\"gender\", \"S1\")]\n",
        "\n",
        "students = np.array([(\"Krishna\", 3.1 , 10, \"M\")], dtype = c)\n",
        "students"
      ],
      "metadata": {
        "colab": {
          "base_uri": "https://localhost:8080/"
        },
        "id": "hYI1BiUBp0ch",
        "outputId": "63b7017d-842a-427b-95ed-719160c00d2a"
      },
      "execution_count": null,
      "outputs": [
        {
          "output_type": "execute_result",
          "data": {
            "text/plain": [
              "array([(b'Krishna', 3, 10., b'M')],\n",
              "      dtype=[('name', 'S15'), ('age', '<i8'), ('marks', '<f8'), ('gender', 'S1')])"
            ]
          },
          "metadata": {},
          "execution_count": 73
        }
      ]
    },
    {
      "cell_type": "markdown",
      "source": [
        "#Views and Copies"
      ],
      "metadata": {
        "id": "xedz4D6op8I1"
      }
    },
    {
      "cell_type": "code",
      "source": [
        "import numpy as np\n",
        "data = np.array([1,2,3,4,5])\n",
        "\n",
        "# Creating a view\n",
        "view_data = data[0:3]\n",
        "\n",
        "\n",
        "# Creating a copy\n",
        "copy_data = data[0:3].copy()\n"
      ],
      "metadata": {
        "id": "GVAi0jsip2wO"
      },
      "execution_count": null,
      "outputs": []
    },
    {
      "cell_type": "code",
      "source": [
        "view_data"
      ],
      "metadata": {
        "colab": {
          "base_uri": "https://localhost:8080/"
        },
        "id": "wIEOazPJqFvu",
        "outputId": "76817587-518b-48b2-abaa-ced8460c148f"
      },
      "execution_count": null,
      "outputs": [
        {
          "output_type": "execute_result",
          "data": {
            "text/plain": [
              "array([1, 2, 3])"
            ]
          },
          "metadata": {},
          "execution_count": 75
        }
      ]
    },
    {
      "cell_type": "code",
      "source": [
        "copy_data"
      ],
      "metadata": {
        "colab": {
          "base_uri": "https://localhost:8080/"
        },
        "id": "cefqTaKiqIXJ",
        "outputId": "9405d9ed-0dd4-42b5-bf6c-81ba16ce4fb5"
      },
      "execution_count": null,
      "outputs": [
        {
          "output_type": "execute_result",
          "data": {
            "text/plain": [
              "array([1, 2, 3])"
            ]
          },
          "metadata": {},
          "execution_count": 76
        }
      ]
    },
    {
      "cell_type": "markdown",
      "source": [
        "#**Heart Disease Pridiction Using ML Algorithms**"
      ],
      "metadata": {
        "id": "t2wKQzPMj4LV"
      }
    },
    {
      "cell_type": "code",
      "source": [
        "import numpy as np\n",
        "import matplotlib.pyplot as plt\n",
        "import seaborn as sns\n",
        "from sklearn.model_selection import train_test_split"
      ],
      "metadata": {
        "id": "y3IwIroUgIjj"
      },
      "execution_count": null,
      "outputs": []
    },
    {
      "cell_type": "code",
      "source": [
        "dataframe = pd.read_csv('/content/dataset.csv')\n",
        "dataframe.head()"
      ],
      "metadata": {
        "colab": {
          "base_uri": "https://localhost:8080/",
          "height": 158
        },
        "id": "o7H79xn6hyk8",
        "outputId": "6ebda51b-24b3-4d6f-b5e4-c4f33fefbdb4"
      },
      "execution_count": null,
      "outputs": [
        {
          "output_type": "error",
          "ename": "NameError",
          "evalue": "name 'pd' is not defined",
          "traceback": [
            "\u001b[0;31m---------------------------------------------------------------------------\u001b[0m",
            "\u001b[0;31mNameError\u001b[0m                                 Traceback (most recent call last)",
            "\u001b[0;32m/tmp/ipython-input-4062067061.py\u001b[0m in \u001b[0;36m<cell line: 0>\u001b[0;34m()\u001b[0m\n\u001b[0;32m----> 1\u001b[0;31m \u001b[0mdataframe\u001b[0m \u001b[0;34m=\u001b[0m \u001b[0mpd\u001b[0m\u001b[0;34m.\u001b[0m\u001b[0mread_csv\u001b[0m\u001b[0;34m(\u001b[0m\u001b[0;34m'/content/dataset.csv'\u001b[0m\u001b[0;34m)\u001b[0m\u001b[0;34m\u001b[0m\u001b[0;34m\u001b[0m\u001b[0m\n\u001b[0m\u001b[1;32m      2\u001b[0m \u001b[0mdataframe\u001b[0m\u001b[0;34m.\u001b[0m\u001b[0mhead\u001b[0m\u001b[0;34m(\u001b[0m\u001b[0;34m)\u001b[0m\u001b[0;34m\u001b[0m\u001b[0;34m\u001b[0m\u001b[0m\n",
            "\u001b[0;31mNameError\u001b[0m: name 'pd' is not defined"
          ]
        }
      ]
    },
    {
      "cell_type": "code",
      "source": [
        "dataframe.drop('education', axis=1, inplace=True)"
      ],
      "metadata": {
        "id": "EuGKopMLhyob"
      },
      "execution_count": null,
      "outputs": []
    },
    {
      "cell_type": "code",
      "source": [
        "dataframe.rename(columns={\"TenYearCHD\": \"CHD\"}, inplace=True)"
      ],
      "metadata": {
        "id": "0mZ7Fg-phyrY"
      },
      "execution_count": null,
      "outputs": []
    },
    {
      "cell_type": "code",
      "source": [
        "dataframe.head()"
      ],
      "metadata": {
        "id": "3GPr_aOlhyuW"
      },
      "execution_count": null,
      "outputs": []
    },
    {
      "cell_type": "code",
      "source": [
        "x = dataframe.iloc[:,:-1]\n",
        "y = dataframe.iloc[:,-1]\n",
        "X_train, X_test, y_train, y_test = train_test_split(x, y, test_size=0.20)\n",
        "\n",
        "train_data = pd.concat([X_train, y_train], axis=1)\n",
        "test_data = pd.concat([X_test, y_test], axis=1)"
      ],
      "metadata": {
        "id": "1YYdsUSFhyxD"
      },
      "execution_count": null,
      "outputs": []
    },
    {
      "cell_type": "code",
      "source": [
        "sns.countplot(x=train_data['male'])"
      ],
      "metadata": {
        "id": "xX0w4NRsiY_3"
      },
      "execution_count": null,
      "outputs": []
    },
    {
      "cell_type": "code",
      "source": [
        "sns.countplot(x=train_data['male'], hue=train_data['CHD']) ##plotting a count plot of CHD and male having disease or not using sns.countplot"
      ],
      "metadata": {
        "id": "rEAmZXThiZEn"
      },
      "execution_count": null,
      "outputs": []
    },
    {
      "cell_type": "code",
      "source": [
        "plt.figure(figsize=(15,15))#plotting a figure of size 15 and 15\n",
        "\n",
        "sns.heatmap(train_data.corr(), annot=True, linewidths=0.1) #plotting a heatmat of dataframe correlation"
      ],
      "metadata": {
        "id": "oaTixSzyiZI-"
      },
      "execution_count": null,
      "outputs": []
    },
    {
      "cell_type": "code",
      "source": [
        "train_data.drop(['currentSmoker', 'diaBP'], axis=1, inplace=True)"
      ],
      "metadata": {
        "id": "6S7g4xK4ijUM"
      },
      "execution_count": null,
      "outputs": []
    },
    {
      "cell_type": "code",
      "source": [
        "train_data = train_data[~(train_data['sysBP'] > 220)]\n",
        "train_data = train_data[~(train_data['BMI'] > 43)]\n",
        "train_data = train_data[~(train_data['heartRate'] > 125)]\n",
        "train_data = train_data[~(train_data['glucose'] > 200)]\n",
        "train_data = train_data[~(train_data['totChol'] > 450)]"
      ],
      "metadata": {
        "id": "_ub1yHGMijXF"
      },
      "execution_count": null,
      "outputs": []
    },
    {
      "cell_type": "code",
      "source": [
        "from sklearn.preprocessing import StandardScaler\n",
        "scaler = StandardScaler()\n",
        "\n",
        "# Define the columns you want to standardize\n",
        "cols_to_standardise = ['age','totChol','sysBP','BMI', 'heartRate', 'glucose', 'cigsPerDay']\n",
        "\n",
        "# Now apply the scaler\n",
        "train_data[cols_to_standardise] = scaler.fit_transform(train_data[cols_to_standardise])"
      ],
      "metadata": {
        "id": "jEEbOw_xiwcR"
      },
      "execution_count": null,
      "outputs": []
    },
    {
      "cell_type": "code",
      "source": [
        "!pip install scikit-learn\n",
        "import pandas as pd\n",
        "from sklearn.impute import SimpleImputer # Import SimpleImputer\n",
        "\n",
        "# The columns 'currentSmoker', 'diaBP' have likely been dropped previously.\n",
        "# Commenting out the line below to prevent the KeyError\n",
        "# test_data.drop(['currentSmoker', 'diaBP'], axis=1, inplace=True)\n",
        "\n",
        "imputer = SimpleImputer(strategy='most_frequent')\n",
        "test_data = pd.DataFrame(imputer.fit_transform(test_data))"
      ],
      "metadata": {
        "id": "qtv8FfcSi1Rn"
      },
      "execution_count": null,
      "outputs": []
    },
    {
      "cell_type": "code",
      "source": [
        "!pip install scikit-learn\n",
        "import pandas as pd\n",
        "from sklearn.impute import SimpleImputer # Import SimpleImputer"
      ],
      "metadata": {
        "id": "gVOy592Zi1Wl"
      },
      "execution_count": null,
      "outputs": []
    },
    {
      "cell_type": "code",
      "source": [
        "from sklearn.linear_model import LogisticRegression\n",
        "from sklearn.metrics import accuracy_score # Import accuracy_score\n",
        "\n",
        "tree = LogisticRegression()\n",
        "clf = tree.fit(X_train,y_train)\n",
        "y_pred = clf.predict(X_test)\n",
        "accuracy_score(y_pred,y_test) # Now you can use accuracy_score"
      ],
      "metadata": {
        "id": "ksWOEjeti1bu"
      },
      "execution_count": null,
      "outputs": []
    },
    {
      "cell_type": "code",
      "source": [
        "from sklearn.tree import DecisionTreeClassifier\n",
        "tree = DecisionTreeClassifier(max_depth=3)\n",
        "clf = tree.fit(X_train,y_train)\n",
        "y_pred = clf.predict(X_test)\n",
        "accuracy_score(y_pred,y_test)"
      ],
      "metadata": {
        "id": "kPqCzLf7iwf9"
      },
      "execution_count": null,
      "outputs": []
    },
    {
      "cell_type": "code",
      "source": [
        "from sklearn.ensemble import RandomForestClassifier\n",
        "neigh = RandomForestClassifier(n_estimators=3)\n",
        "knnclf = neigh.fit(X_train,y_train)\n",
        "y_pred = knnclf.predict(X_test)\n",
        "accuracy_score(y_pred,y_test)"
      ],
      "metadata": {
        "id": "Rw97I-pDiwjJ"
      },
      "execution_count": null,
      "outputs": []
    },
    {
      "cell_type": "code",
      "source": [],
      "metadata": {
        "id": "R4wsc8EyjFnQ"
      },
      "execution_count": null,
      "outputs": []
    }
  ]
}